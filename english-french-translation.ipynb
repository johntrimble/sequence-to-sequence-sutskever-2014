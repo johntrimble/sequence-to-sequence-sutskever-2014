{
 "cells": [
  {
   "cell_type": "code",
   "execution_count": 1,
   "metadata": {},
   "outputs": [],
   "source": [
    "%matplotlib inline\n",
    "%load_ext autoreload\n",
    "%autoreload 2"
   ]
  },
  {
   "cell_type": "code",
   "execution_count": 2,
   "metadata": {},
   "outputs": [],
   "source": [
    "%%capture --no-stdout --no-display\n",
    "\n",
    "from keras import backend as K\n",
    "from keras.callbacks import ModelCheckpoint, LearningRateScheduler\n",
    "from keras.layers import (Embedding, TimeDistributed, Dense,\n",
    "                          Input, LSTM, Activation, Lambda)\n",
    "from keras.models import Model\n",
    "from keras.optimizers import SGD\n",
    "from keras.initializers import RandomUniform\n",
    "from keras.preprocessing.sequence import pad_sequences\n",
    "from keras.preprocessing.text import Tokenizer\n",
    "from keras.utils import Sequence\n",
    "\n",
    "from mosestokenizer import MosesTokenizer, MosesDetokenizer\n",
    "\n",
    "from IPython.display import HTML, display\n",
    "from pprint import pprint\n",
    "\n",
    "import matplotlib.pyplot as plt\n",
    "import tensorflow as tf\n",
    "import numpy as np\n",
    "\n",
    "import re\n",
    "import io\n",
    "import os\n",
    "import util\n",
    "import gc"
   ]
  },
  {
   "cell_type": "markdown",
   "metadata": {},
   "source": [
    "# Reproducing Sutskever et al.'s results from \"Sequence to Sequence Learning\"\n",
    "John Trimble <trimblej@gmail.com>"
   ]
  },
  {
   "cell_type": "markdown",
   "metadata": {},
   "source": [
    "## Introduction\n",
    "\n",
    "In this notebook, we attempt to reproduce Sutskever et al.'s (2014) neural machine translation model and results on the ntst14 dataset for a single model (i.e. not the results for the ensemble networks). We focus on the modifications of the model to make it trainable on a single 8GB GPU and the implementation details of building the model, training it, and producing translations. Since we will be referring to Sutskever et al. (2014) quite frequently throughout this notebook, for brevity's sake we will simply use the first author's name without a date when citing it going forward. "
   ]
  },
  {
   "cell_type": "markdown",
   "metadata": {},
   "source": [
    "## Modifications"
   ]
  },
  {
   "cell_type": "markdown",
   "metadata": {},
   "source": [
    "Sutskever used an input vocabulary size of 160,000 words and an output vocabulary size of 80,000 words, each word having an embedding of 1,000 parameters. This poses two challenges: memory use and runtime performance.\n",
    "\n",
    "Assuming we use float32 for the embedding parameters and the same vocabulary sizes as Sutskever, our embeddings would take up the following amount of memory:\n",
    "\n",
    "$$\n",
    "(160,000 + 80,000) \\cdot (1,000 \\text{ parameters}) \\cdot (\\frac{4 \\text{ bytes}}{1 \\text{ parameter}}) \\cdot (\\frac{1 \\text{ GB}}{1,024^3 \\text{ bytes}}) \\approx 0.9 \\text{ GB}\n",
    "$$\n",
    "\n",
    "While this does not seem like a substantial amount of memory, between the other parameters of the model, and the need to also fit the current training batch in GPU memory, this is somewhat more memory than we can afford on an 8GB GPU.\n",
    "\n",
    "To understand how large vocabulary sizes cause performance issue with softmax, lets reexamine how softmax works:\n",
    "\n",
    "$$\n",
    "\\sigma (z)_j = \\frac{e^{z_j}}{\\Sigma_{k=1}^{K} e^{z_{k}}} \\text{ where } z = \\theta^{T} a_{prev}\n",
    "$$\n",
    "\n",
    "Softmax requires two most unfortunate operations. First, it requires a giant sum, $\\Sigma_{k=1}^{K} e^{z_{k}}$, used to normalize logits so that they form a valid probability distribution summing to 1. With Sutskever's output vocabulary of 80,000, we have a sum over 80,000 numbers (i.e. $K=80,000$). Second, a gargantuan dot product between the output of the last hidden state, $a_{prev}$, and softmax layer's weight matrix, $\\theta$. With Sutskever using a batch size of 128, we have a dot product between a $(80,000 \\times 1,000)$ and a $(1,000 \\times 128)$ matrix. The sheer magnitude of this dot product turns out to have significant and detrimental implications for performance. See Chen et al. (2015) for a more extensive overview of these issues.\n",
    "\n",
    "Sutskever gets around these problems by using 8 GPUs to train their model, 4 of which are dedicated to the softmax layer. However, we only have access to a single 8GB GPU. Given that, the most expedient remedy to both the memory and runtime performance issues is to simply halve the vocabulary size. So instead of using 160,000 words for the input vocabulary, we use 80,000, and instead of 80,000 words for the output vocabulary, we use 40,000:"
   ]
  },
  {
   "cell_type": "code",
   "execution_count": 3,
   "metadata": {},
   "outputs": [],
   "source": [
    "MAX_ENGLISH_VOCAB=80000\n",
    "MAX_FRENCH_VOCAB=40000"
   ]
  },
  {
   "cell_type": "markdown",
   "metadata": {},
   "source": [
    "This may seem drastic, and it does have implications for translation accuracy, but it turns out, by way of Zipf's law (Zipf, 1949), that the top 10,000 most frequent words account for the vast majority of words used. We can see this by plotting how much of the training data is covered as the vocabulary size is increased:"
   ]
  },
  {
   "cell_type": "code",
   "execution_count": 4,
   "metadata": {},
   "outputs": [],
   "source": [
    "word_counts_source, word_counts_target = util.load_word_counts(cache_dir='./target', overwrite=False)"
   ]
  },
  {
   "cell_type": "code",
   "execution_count": 5,
   "metadata": {},
   "outputs": [],
   "source": [
    "def percent_data_covered_by_vocab_size(word_counts):\n",
    "    word_counts_sorted = list(sorted(map(lambda x: x[1], \n",
    "                                         filter(lambda x: not x[0] in [util.SOS_IDX, util.EOS_IDX],\n",
    "                                                word_counts.items())), \n",
    "                                     reverse=True))\n",
    "    total = sum(word_counts_sorted)\n",
    "    frequencies = [count / total for count in word_counts_sorted]\n",
    "    cummulative = []\n",
    "    current_percent = 0\n",
    "    for percent in frequencies:\n",
    "        current_percent += percent\n",
    "        cummulative.append(current_percent)\n",
    "    return [0.0]+cummulative"
   ]
  },
  {
   "cell_type": "code",
   "execution_count": 6,
   "metadata": {},
   "outputs": [],
   "source": [
    "cummulative_coverage_source = percent_data_covered_by_vocab_size(word_counts_source)\n",
    "cummulative_coverage_target = percent_data_covered_by_vocab_size(word_counts_target)"
   ]
  },
  {
   "cell_type": "code",
   "execution_count": 7,
   "metadata": {},
   "outputs": [
    {
     "data": {
      "image/png": "[encoded data removed]",
      "text/plain": [
       "<Figure size 720x288 with 2 Axes>"
      ]
     },
     "metadata": {},
     "output_type": "display_data"
    }
   ],
   "source": [
    "def plot_word_counts(cummulative_coverage_source, cummulative_coverage_target):\n",
    "    plt.figure(figsize=(10, 4))\n",
    "    \n",
    "    plt.subplot(1, 2, 1)\n",
    "    plt.title('English')\n",
    "    plt.xlabel('Vocabulary Size')\n",
    "    plt.ylabel('Percentage Train Data Covered')\n",
    "    plt.semilogx(list(range(1, len(cummulative_coverage_source) + 1)), \n",
    "                 cummulative_coverage_source)\n",
    "    plt.axvline(80000, color='g', linestyle='--', label=\"80,000\")\n",
    "    plt.axvline(160000, color='r', linestyle='--', label=\"160,000\")\n",
    "    plt.legend()\n",
    "    plt.grid(axis='y')\n",
    "    plt.yticks(np.arange(0.0, 1.01, 0.1))\n",
    "    \n",
    "    plt.subplot(1, 2, 2)\n",
    "    plt.title('French')\n",
    "    plt.xlabel('Vocabulary Size')\n",
    "    plt.ylabel('Percentage Train Data Covered')\n",
    "    plt.semilogx(list(range(1, len(cummulative_coverage_target) + 1)), \n",
    "                 cummulative_coverage_target)\n",
    "    plt.axvline(40000, color='g', linestyle='--', label=\"40,000\")\n",
    "    plt.axvline(80000, color='r', linestyle='--', label=\"80,000\")\n",
    "    plt.legend()\n",
    "    plt.grid(axis='y')\n",
    "    plt.yticks(np.arange(0.0, 1.01, 0.1))\n",
    "    \n",
    "    plt.tight_layout()\n",
    "    plt.show()\n",
    "\n",
    "plot_word_counts(cummulative_coverage_source, cummulative_coverage_target)"
   ]
  },
  {
   "cell_type": "markdown",
   "metadata": {},
   "source": [
    "Notice that with a vocabulary size of 10,000, well over 90% of the data is covered, and we begin to see diminishing returns in increasing the vocabulary size further. We can see below that the benefit of an English vocabulary size of 160,000 versus 80,000 amounts to less than a 1% difference in the amount of data out-of-vocabulary. As for the French vocabulary size, the difference between 80,000 versus 40,000 amounts to less than 1.5%:"
   ]
  },
  {
   "cell_type": "code",
   "execution_count": 8,
   "metadata": {},
   "outputs": [
    {
     "name": "stdout",
     "output_type": "stream",
     "text": [
      "English Train Coverage 80,000 words:  0.981\n",
      "English Train Coverage 160,000 words: 0.988\n",
      "Delta: 0.007\n",
      "\n",
      "French Train Coverage 40,000 words: 0.969\n",
      "French Train Coverage 80,000 words: 0.981\n",
      "Delta: 0.012\n"
     ]
    }
   ],
   "source": [
    "print(\"English Train Coverage 80,000 words:  %.3f\" % cummulative_coverage_source[80000])\n",
    "print(\"English Train Coverage 160,000 words: %.3f\" % cummulative_coverage_source[160000])\n",
    "print(\"Delta: %.3f\" % (cummulative_coverage_source[160000-1] - cummulative_coverage_source[80000]))\n",
    "print()\n",
    "print(\"French Train Coverage 40,000 words: %.3f\" % cummulative_coverage_target[40000])\n",
    "print(\"French Train Coverage 80,000 words: %.3f\" % cummulative_coverage_target[80000])\n",
    "print(\"Delta: %.3f\" % (cummulative_coverage_target[80000] - cummulative_coverage_target[40000]))"
   ]
  },
  {
   "cell_type": "markdown",
   "metadata": {},
   "source": [
    "The next issue is the batch size. Sutskever uses a batch size of 128. Unfortunately, for longer sentences, it becomes difficult to fit an entire training batch into GPU memory with this batch size. Consequently, we vary the batch size by sentence length to accommodate the memory constraints of a single GPU with 8GB of memory. For example, for a batch of sentences with lengths between 20 and 30 words, we use a batch size of 128, but for a batch of sentences between 100 and 120 words, we use a batch size of 32. Also, we cap sentence lengths at 120 words. Few samples are longer than this, so little training data is lost and some memory is saved:"
   ]
  },
  {
   "cell_type": "code",
   "execution_count": 9,
   "metadata": {},
   "outputs": [],
   "source": [
    "thresholds = [20, 30, 40, 50, 60, 80, 100, 120]\n",
    "threshold_to_batch_size = {\n",
    "    20: 128,\n",
    "    30: 128,\n",
    "    40: 64,\n",
    "    50: 64,\n",
    "    60: 64,\n",
    "    80: 32,\n",
    "    100: 32,\n",
    "    120: 32\n",
    "}"
   ]
  },
  {
   "cell_type": "markdown",
   "metadata": {},
   "source": [
    "With these modifications, we can train Sutskever's model on a single 8GB GPU."
   ]
  },
  {
   "cell_type": "markdown",
   "metadata": {},
   "source": [
    "## CSLM Data"
   ]
  },
  {
   "cell_type": "markdown",
   "metadata": {},
   "source": [
    "The CSLM data set (Schwenk, 2014) provides a tokenized corpus of, among other things, English and French bitexts suitable for training a machine translation model. In particular, we use ep7_pc45, nc9, dev08_11, crawl, ccb2_pc30, and un2000_pc34 bitexts as our training data. Bitexts ntst1213 and ntst14 as our dev and test sets respectively. We use `<unk>`, `<s>` and `</s>` for the out-of-vocabulary (OOV), start-of-sentence (SOS), and end-of-sentence (EOS) tokens respectively."
   ]
  },
  {
   "cell_type": "code",
   "execution_count": 10,
   "metadata": {},
   "outputs": [],
   "source": [
    "word_index_source = util.load_source_word_index(cache_dir='./target', overwrite=False)\n",
    "word_index_target = util.load_target_word_index(cache_dir='./target', overwrite=False)\n",
    "index_word_source = {i: w for (w, i) in word_index_source.items()}\n",
    "index_word_target = {i: w for (w, i) in word_index_target.items()}"
   ]
  },
  {
   "cell_type": "code",
   "execution_count": 11,
   "metadata": {},
   "outputs": [],
   "source": [
    "(X_train, y_train), (X_dev, y_dev), (X_test, y_test) = util.load_data(MAX_ENGLISH_VOCAB, \n",
    "                                                                      MAX_FRENCH_VOCAB, \n",
    "                                                                      reverse_source=True, \n",
    "                                                                      cache_dir='./target', \n",
    "                                                                      overwrite=False)"
   ]
  },
  {
   "cell_type": "markdown",
   "metadata": {},
   "source": [
    "Notice that, like Sutskever, we reverse the order of the English sentences, but not the French sentences, to improve the accuracy of our model:"
   ]
  },
  {
   "cell_type": "code",
   "execution_count": 12,
   "metadata": {},
   "outputs": [
    {
     "name": "stdout",
     "output_type": "stream",
     "text": [
      "</s> . <unk> <unk> and Tom , Philippines the in arrival his after month one barely Just\n",
      "Tout juste un mois après son arrivée aux Philippines , Tom <unk> <unk> . </s>\n"
     ]
    }
   ],
   "source": [
    "print(' '.join([index_word_source[idx] for idx in X_train[80006]]))\n",
    "print(' '.join([index_word_target[idx] for idx in y_train[80006]]))"
   ]
  },
  {
   "cell_type": "markdown",
   "metadata": {},
   "source": [
    "Words are indexed according to their frequency such that words with higher frequency have indices lower than those with lower frequency. The exceptions being `<unk>`, `<s>`, and `</s>`, which for convenience, always have indices 1, 2, and 3. Also, in Keras, index 0 is reserved for the purpose of masking. For example, here are the 15 most frequent English words in our training data:"
   ]
  },
  {
   "cell_type": "code",
   "execution_count": 13,
   "metadata": {},
   "outputs": [
    {
     "name": "stdout",
     "output_type": "stream",
     "text": [
      "'the', ',', 'of', '.', 'and', 'to', 'in', 'a', '(', ')', 'for', 'is', 'The', 'on', 'that'\n"
     ]
    }
   ],
   "source": [
    "print(', '.join(\"'\" + index_word_source[i] + \"'\" for i in range(4,19)))"
   ]
  },
  {
   "cell_type": "markdown",
   "metadata": {},
   "source": [
    "and the 15 least frequent words:"
   ]
  },
  {
   "cell_type": "code",
   "execution_count": 14,
   "metadata": {},
   "outputs": [
    {
     "name": "stdout",
     "output_type": "stream",
     "text": [
      "'50,008,325', 'accessaccessible', 'fifth-sixth', '273,375,000', '546,750,000', 'EUR3.3', 'EUR21.2', '1,467,500', 'AfghanTemplate.htm.', 'SUSU', '105-year', '67,179', 'MISC.30.', 'MISC.14-FCCC', 'assistance.16'\n"
     ]
    }
   ],
   "source": [
    "highest_index_source = sorted(index_word_source.keys(), reverse=True)[0]\n",
    "print(', '.join(\"'\" + index_word_source[highest_index_source - i] + \"'\" for i in range(0, 15)))"
   ]
  },
  {
   "cell_type": "markdown",
   "metadata": {},
   "source": [
    "Indexing words in this way makes it trivial to change the vocabulary size without having to re-index all of the words in the vocabulary as we can simply replace any indices above our vocabulary size with the OOV token as we've done when loading the CSLM data above. For comparison, here are the 15 least frequent words given our vocabulary size `MAX_ENGLISH_VOCAB`:"
   ]
  },
  {
   "cell_type": "code",
   "execution_count": 15,
   "metadata": {},
   "outputs": [
    {
     "name": "stdout",
     "output_type": "stream",
     "text": [
      "'Inmate', 'Tanger', 'GOVERNANCE', 'symbolising', '2051', 'in-orbit', 'MPM', 'Plante', 'Mays', 'Guérin', 'dampness', 'Tetouan', 'Heerlen', 'Voted', 'Collar'\n"
     ]
    }
   ],
   "source": [
    "highest_index_source = max(max(tokenized_sentence) for tokenized_sentence in X_train)\n",
    "print(', '.join(\"'\" + index_word_source[highest_index_source - i] + \"'\" for i in range(0, 15)))"
   ]
  },
  {
   "cell_type": "markdown",
   "metadata": {},
   "source": [
    "Notice how much more word-like the least frequent words within the vocabulary size are versus the least common words overall."
   ]
  },
  {
   "cell_type": "markdown",
   "metadata": {},
   "source": [
    "Some additional work needs to be performed on this data before it is ready for training the model. The model requires as input: encoder inputs and decoder inputs. It also requires the labels. The encoder inputs are effectively the source sentences. The decoder inputs are essentially the target sentences, except prefixed by the start-of-sentence token. The labels are the target sentences. Note that the offset between the decoder inputs and the labels is because the decoder is effectively a language model where we are trying to predict the next word in a sentence. So, for time step `t`, the decoder input at `t` is the word preceding the label at `t`. \n",
    "\n",
    "Also, since we will be working with batches of training data, and batches are provided via tensors, all samples in a batch must have the same length. To accommodate this, we pad samples in a batch with `0` so that they are all the same length. These 0 values will be masked during training so they will not bias the loss. So do we put our padding at the beginning or the end of our samples? We want to reduce as much as possible the distance between the output of the final word in the encoder and the first word of the decoder. If we insert padding in-between the two, then the encoder must learn how to carry information over this dead space and the decoder must learn to do likewise. We can avoid this problem by simply padding the encoder inputs at the beginning, and the decoder inputs/labels at the end. Now the output of the encoder will be generated right at the final word for each source sentence sample in the batch, and the inputs for decoder will start at the beginning of each target sentence in the batch.\n",
    "\n",
    "To accomplish the above, we use the the below `to_model_inputs_and_labels(..)` function:"
   ]
  },
  {
   "cell_type": "code",
   "execution_count": 16,
   "metadata": {},
   "outputs": [],
   "source": [
    "def to_model_inputs_and_labels(X, y):\n",
    "    X_padded_array = pad_sequences(X,\n",
    "                                   dtype='int32',\n",
    "                                   padding='pre',\n",
    "                                   truncating='post',\n",
    "                                   value=0)\n",
    "    y_padded_array = pad_sequences(y,\n",
    "                                   dtype='int32',\n",
    "                                   padding='post',\n",
    "                                   truncating='post',\n",
    "                                   value=0)\n",
    "    decoder_inputs = np.roll(y_padded_array, shift=1, axis=1)\n",
    "    decoder_inputs[:, 0] = util.SOS_IDX\n",
    "    decoder_inputs[decoder_inputs == util.EOS_IDX] = 0\n",
    "    return ((X_padded_array, decoder_inputs), y_padded_array)"
   ]
  },
  {
   "cell_type": "code",
   "execution_count": 17,
   "metadata": {},
   "outputs": [],
   "source": [
    "model_input_and_labels_example = to_model_inputs_and_labels(X_train[80006:80008], y_train[80006:80008])\n",
    "((encoder_input_example, decoder_input_example), labels_example) = model_input_and_labels_example"
   ]
  },
  {
   "cell_type": "markdown",
   "metadata": {},
   "source": [
    "Notice that samples for encoder inputs are padded on the left:"
   ]
  },
  {
   "cell_type": "code",
   "execution_count": 18,
   "metadata": {},
   "outputs": [
    {
     "name": "stdout",
     "output_type": "stream",
     "text": [
      "example encoder inputs:\n",
      "[[    0     0     0     0     0     0     0     0     0     0     0     0\n",
      "      0     0     0     0     3     7     1     1     8  9711     5  2904\n",
      "      4    10  2791   107   200  1461    58  9916  3131]\n",
      " [    3     7     1 20965  2701     1     6  6714     4 14827   425    29\n",
      "      8   540     6  2590     4    17    76  2154    57    41    71    17\n",
      "    505  3045    11    29    20  9093     4 65136    20]]\n"
     ]
    }
   ],
   "source": [
    "print(\"example encoder inputs:\")\n",
    "print(encoder_input_example)"
   ]
  },
  {
   "cell_type": "markdown",
   "metadata": {},
   "source": [
    "Notice that samples for the decoder inputs are padded on the right and that the decoder inputs are the same as the labels except prefixed by the `<s>` token (which has index 2):"
   ]
  },
  {
   "cell_type": "code",
   "execution_count": 19,
   "metadata": {},
   "outputs": [
    {
     "name": "stdout",
     "output_type": "stream",
     "text": [
      "example decoder inputs:\n",
      "[[    2  1055  1133    18   379   157    59  1759    34  2867     5 10982\n",
      "      1     1     6     0     0     0     0     0     0     0     0     0\n",
      "      0     0     0     0     0     0     0     0     0     0     0     0\n",
      "      0     0     0     0     0     0     0]\n",
      " [    2    27     1     9     1    27    25    48    88     9  1135  2129\n",
      "      4     7    76  4612    14   717    26     7   174     4     7   658\n",
      "     28    85     5   932    75 23991    11  8161     4    74  2189     5\n",
      "      7     1     8  1561 24207     1     6]]\n",
      "\n",
      "example decoder labels:\n",
      "[[ 1055  1133    18   379   157    59  1759    34  2867     5 10982     1\n",
      "      1     6     3     0     0     0     0     0     0     0     0     0\n",
      "      0     0     0     0     0     0     0     0     0     0     0     0\n",
      "      0     0     0     0     0     0     0]\n",
      " [   27     1     9     1    27    25    48    88     9  1135  2129     4\n",
      "      7    76  4612    14   717    26     7   174     4     7   658    28\n",
      "     85     5   932    75 23991    11  8161     4    74  2189     5     7\n",
      "      1     8  1561 24207     1     6     3]]\n"
     ]
    }
   ],
   "source": [
    "print(\"example decoder inputs:\")\n",
    "print(decoder_input_example)\n",
    "print()\n",
    "print(\"example decoder labels:\")\n",
    "print(labels_example)"
   ]
  },
  {
   "cell_type": "markdown",
   "metadata": {},
   "source": [
    "Now, while Keras will mask the padding values to prevent biasing the loss that does not mean that the padding values come free of computational and memory costs. For this reason, we want to limit just how many padding values are in each batch. To that end, we group together sentences that are _similar_ in length to help reduce the amount of padding we need. Sutskever sped up training by a factor of two in this way. We have already defined the thresholds we will use above.\n",
    "\n",
    "We use a custom `Sequence` subclass, `BitextSequence`, which provides the appropriate inputs and labels for the model (i.e. it calls `to_model_inputs_and_labels(..)`), handles grouping together sentences of similar lengths, shuffling the data, and restoring the sequence, deterministically, to it's a appropriate state given the current epoch. The last capability is important for continuing training after an interruption (for example, after power loss). "
   ]
  },
  {
   "cell_type": "code",
   "execution_count": 20,
   "metadata": {},
   "outputs": [],
   "source": [
    "class BitextSequence(Sequence):\n",
    "    def __init__(self, X, y, batch_size, thresholds=None, truncate=False, shuffle=False, seed=1):\n",
    "        if not shuffle:\n",
    "            thresholds = None\n",
    "            if isinstance(batch_size, dict):\n",
    "                batch_size = min(batch_size.values())\n",
    "                \n",
    "        if not shuffle and isinstance(batch_size, dict):\n",
    "            batch_size = min(batch_size.values())\n",
    "\n",
    "        if not thresholds:\n",
    "            self.thresholds = [max(map(lambda x, y: len(x)+len(y), X, y))]\n",
    "        else:\n",
    "            self.thresholds = list(sorted(thresholds))\n",
    "            \n",
    "        if isinstance(batch_size, dict):\n",
    "            self.threshold_to_batch_size = batch_size\n",
    "        else:\n",
    "            self.threshold_to_batch_size = {threshold: batch_size for threshold in self.thresholds}\n",
    "        \n",
    "        self.shuffle = shuffle\n",
    "        self.truncate = truncate\n",
    "        self.seed = seed\n",
    "        \n",
    "        self._X = X\n",
    "        self._y = y\n",
    "        \n",
    "        self.reset()\n",
    "        \n",
    "    def reset(self):\n",
    "        self.threshold_to_ids = util.build_threshold_to_ids(\n",
    "            self._X, \n",
    "            self._y, \n",
    "            self.thresholds, \n",
    "            truncate=self.truncate)\n",
    "        batch_ids = []\n",
    "        for threshold in sorted(self.threshold_to_ids.keys()):\n",
    "            ids = self.threshold_to_ids[threshold]\n",
    "            batch_size = self.threshold_to_batch_size[threshold]\n",
    "            for i in range(int(np.ceil(len(ids)/float(batch_size)))):\n",
    "                batch_ids.append((threshold, i))        \n",
    "        self.batch_ids = batch_ids\n",
    "        self._random_state = np.random.RandomState(seed=self.seed)\n",
    "        self._shuffle_data()\n",
    "        \n",
    "    def _shuffle_data(self):\n",
    "        if self.shuffle:\n",
    "            for threshold in self.thresholds:\n",
    "                self._random_state.shuffle(self.threshold_to_ids[threshold])\n",
    "            self._random_state.shuffle(self.batch_ids)\n",
    "    \n",
    "    def on_epoch_end(self):\n",
    "        if self.shuffle:\n",
    "            print(\"Iteration complete, shuffling data\")\n",
    "        self._shuffle_data()\n",
    "            \n",
    "    def __len__(self):\n",
    "        return len(self.batch_ids)\n",
    "    \n",
    "    def __getitem__(self, index):\n",
    "        (threshold, i) = self.batch_ids[index]\n",
    "        batch_size = self.threshold_to_batch_size[threshold]\n",
    "\n",
    "        # get indices for data\n",
    "        indices = self.threshold_to_ids[threshold][i*batch_size:(i+1)*batch_size]\n",
    "\n",
    "        # get inputs and labels for batch\n",
    "        encoder_inputs_batch = []\n",
    "        labels_batch = []\n",
    "        for i in indices:\n",
    "            encoder_inputs_batch.append(self._X[i])\n",
    "            labels_batch.append(self._y[i])\n",
    "\n",
    "        # decoder batch\n",
    "        (encoder_inputs_batch, decoder_inputs_batch), labels_batch =  to_model_inputs_and_labels(\n",
    "            encoder_inputs_batch, labels_batch)\n",
    "\n",
    "        return (encoder_inputs_batch, decoder_inputs_batch), labels_batch"
   ]
  },
  {
   "cell_type": "code",
   "execution_count": 21,
   "metadata": {},
   "outputs": [],
   "source": [
    "train_bitext_sequence = BitextSequence(X_train, y_train,\n",
    "                                       batch_size=threshold_to_batch_size,\n",
    "                                       thresholds=thresholds,\n",
    "                                       truncate=True,\n",
    "                                       shuffle=True)\n",
    "dev_bitext_sequence = BitextSequence(X_dev, y_dev, \n",
    "                                     batch_size=threshold_to_batch_size,\n",
    "                                     thresholds=thresholds,\n",
    "                                     truncate=True,\n",
    "                                     shuffle=False)\n",
    "test_bitext_sequence = BitextSequence(X_test, y_test, \n",
    "                                      batch_size=threshold_to_batch_size,\n",
    "                                      thresholds=thresholds,\n",
    "                                      truncate=False,\n",
    "                                      shuffle=False)"
   ]
  },
  {
   "cell_type": "markdown",
   "metadata": {},
   "source": [
    "Below is the 20th batch from the train sequence. Notice that the output is structured the same as the output of `to_model_inputs_and_labels(..)`:"
   ]
  },
  {
   "cell_type": "code",
   "execution_count": 22,
   "metadata": {},
   "outputs": [
    {
     "name": "stdout",
     "output_type": "stream",
     "text": [
      "Shape of 20th batch: [((128, 20), (128, 20)), (128, 20)]\n"
     ]
    },
    {
     "data": {
      "text/plain": [
       "((array([[    0,     0,     0, ...,     5,   137,   178],\n",
       "         [    0,     0,     0, ...,  7505,  7389,    16],\n",
       "         [    0,     0,     0, ...,    25,  3158, 47438],\n",
       "         ...,\n",
       "         [    0,     0,     0, ...,     4,     9,  4584],\n",
       "         [    0,     0,     0, ...,    46,     5, 19440],\n",
       "         [    0,     0,     0, ...,    13,   305,    12]], dtype=int32),\n",
       "  array([[    2,   217,   767, ...,     0,     0,     0],\n",
       "         [    2,    13, 15188, ...,     0,     0,     0],\n",
       "         [    2,   295,  1841, ...,     0,     0,     0],\n",
       "         ...,\n",
       "         [    2,  6429,    26, ...,     0,     0,     0],\n",
       "         [    2, 23154,     5, ...,     0,     0,     0],\n",
       "         [    2,   341,    17, ...,     0,     0,     0]], dtype=int32)),\n",
       " array([[  217,   767,    23, ...,     0,     0,     0],\n",
       "        [   13, 15188,   445, ...,     0,     0,     0],\n",
       "        [  295,  1841,     1, ...,     0,     0,     0],\n",
       "        ...,\n",
       "        [ 6429,    26,    13, ...,     0,     0,     0],\n",
       "        [23154,     5,   354, ...,     0,     0,     0],\n",
       "        [  341,    17,  1055, ...,     0,     0,     0]], dtype=int32))"
      ]
     },
     "execution_count": 22,
     "metadata": {},
     "output_type": "execute_result"
    }
   ],
   "source": [
    "print(\"Shape of 20th batch:\", [tuple([x.shape for x in train_bitext_sequence[20][0]]), \n",
    "                               train_bitext_sequence[20][1].shape])\n",
    "train_bitext_sequence[20]"
   ]
  },
  {
   "cell_type": "markdown",
   "metadata": {},
   "source": [
    "Also, observe that the sequence supports shuffling but is still deterministic:"
   ]
  },
  {
   "cell_type": "code",
   "execution_count": 23,
   "metadata": {},
   "outputs": [
    {
     "name": "stdout",
     "output_type": "stream",
     "text": [
      "Iteration complete, shuffling data\n",
      "Iteration complete, shuffling data\n"
     ]
    }
   ],
   "source": [
    "train_bitext_sequence.reset()\n",
    "the_20th_train_batch_epoch_1 = train_bitext_sequence[20]\n",
    "train_bitext_sequence.on_epoch_end()\n",
    "the_20th_train_batch_epoch_2 = train_bitext_sequence[20]\n",
    "\n",
    "# we could get incredibly lucky here, and despite shuffling, the 20th batch \n",
    "# just happens to be the same, but lets pretend that won't happen \n",
    "assert not (np.array_equal(the_20th_train_batch_epoch_1[0][0], the_20th_train_batch_epoch_2[0][0])\n",
    "           and np.array_equal(the_20th_train_batch_epoch_1[0][1], the_20th_train_batch_epoch_2[0][1])\n",
    "           and np.array_equal(the_20th_train_batch_epoch_1[1], the_20th_train_batch_epoch_2[1]))\n",
    "\n",
    "train_bitext_sequence.reset()\n",
    "train_bitext_sequence.on_epoch_end()\n",
    "\n",
    "the_20th_train_batch_epoch_2_after_reset = train_bitext_sequence[20]\n",
    "\n",
    "assert (np.array_equal(the_20th_train_batch_epoch_2_after_reset[0][0], the_20th_train_batch_epoch_2[0][0])\n",
    "        and np.array_equal(the_20th_train_batch_epoch_2_after_reset[0][1], the_20th_train_batch_epoch_2[0][1])\n",
    "        and np.array_equal(the_20th_train_batch_epoch_2_after_reset[1], the_20th_train_batch_epoch_2[1]))\n",
    "\n",
    "train_bitext_sequence.reset() # restore the state"
   ]
  },
  {
   "cell_type": "code",
   "execution_count": 24,
   "metadata": {},
   "outputs": [],
   "source": [
    "# some constants we will need\n",
    "MODEL_WEIGHTS_DIRECTORY='./model_checkpoints/'"
   ]
  },
  {
   "cell_type": "markdown",
   "metadata": {},
   "source": [
    "## Building the Model"
   ]
  },
  {
   "cell_type": "markdown",
   "metadata": {},
   "source": [
    "Since the output at each time-step is a probability distribution over all words in the target vocabulary, the cost function is unsurprisingly cross entropy loss. As opposed to using one-hot vectors for our labels though, which can take up a considerable amount of memory, we use a sparse cross entropy loss which enables us to just provide the word indices for the labels. Now Keras provides a `keras.losses.sparse_categorical_crossentropy(..)` function, which looks a lot like what one should use, but any such use will end in dismay and frustration when using the TensorFlow backend. The issue is that `keras.losses.sparse_categorical_crossentropy(..)` expects a normalized probability distribution (as would be produced from a softmax layer), but the `tf.nn.sparse_softmax_cross_entropy_with_logits(..)` function that it wraps expects unnormalized logits. Keras does some magic to turn the given probability distribution into something suitable for TensorFlow's `sparse_softmax_cross_entropy_with_logits(..)`, but not without consequences for the model's performance.\n",
    "\n",
    "The issue here is that Keras's loss functions take as input the output of the model, but TensorFlow expects logits for performance an numeric stability reasons. See TensorFlow issue [#2462](https://github.com/tensorflow/tensorflow/issues/2462) for details. To resolve this, we make a `keras.Model` instance specifically for training that produces logits, instead of probabilities, as output and then combine it with the below custom loss, `sparse_cross_entropy(..)`, that appropriately wraps TensorFlow's `sparse_softmax_cross_entropy_with_logits(..)`:"
   ]
  },
  {
   "cell_type": "code",
   "execution_count": 25,
   "metadata": {},
   "outputs": [],
   "source": [
    "def sparse_cross_entropy(y_true, y_pred):\n",
    "    loss = tf.nn.sparse_softmax_cross_entropy_with_logits(labels=y_true, logits=y_pred)\n",
    "    return loss"
   ]
  },
  {
   "cell_type": "markdown",
   "metadata": {},
   "source": [
    "An important note about the loss function: its return value should have the same shape as the labels (`y_true`). Keras decorates the provided loss function to handle masking and weighting. Returning a scalar, as one might expect to do, will lead to confusing results. See discussion in TensorFlow issue [#17150](https://github.com/tensorflow/tensorflow/issues/17150)."
   ]
  },
  {
   "cell_type": "code",
   "execution_count": 26,
   "metadata": {},
   "outputs": [],
   "source": [
    "# check shape of sparse_cross_entropy(..)\n",
    "with tf.Session() as session:\n",
    "    logits = np.random.random((20, 5, 1000))\n",
    "    labels = np.random.randint(1000, size=(20, 5))\n",
    "    loss_result = session.run(sparse_cross_entropy(labels, logits))\n",
    "    assert labels.shape == loss_result.shape"
   ]
  },
  {
   "cell_type": "markdown",
   "metadata": {},
   "source": [
    "The `build_train_encoder_decoder_models(..)` function returns 3 instances of `keras.Model`. The first is the model for use in training, the second and third are the encoder and decoder models used for inference. \n",
    "\n",
    "The training model takes batches of source and target sequences, as provided by an instance of `BitextSequence` or a call to `to_model_inputs_and_labels(..)` and outputs logits for every time-step of the target sequence.\n",
    "\n",
    "The encoder model takes as input a batch of source sequences and outputs thought vectors for each LSTM layer. The decoder model takes thought vectors and previous word input for the target, and outputs the top 100 words next possible words for every sample. "
   ]
  },
  {
   "cell_type": "code",
   "execution_count": 27,
   "metadata": {},
   "outputs": [],
   "source": [
    "def compute_top_results(logits, beam_size):\n",
    "    log_prob = tf.nn.log_softmax(logits, axis=-1)\n",
    "    indices = tf.constant([[util.OOV_IDX]], dtype='int32')\n",
    "    updates = tf.constant([-100000.0], dtype='float32')\n",
    "    scatter = tf.scatter_nd(indices, updates, tf.shape(logits)[-1:])\n",
    "    adjusted_log_prob = tf.add(log_prob, scatter)\n",
    "    [values, indices] = tf.nn.top_k(adjusted_log_prob, k=beam_size, sorted=True)\n",
    "    return [tf.identity(values), tf.identity(indices)]\n",
    "\n",
    "def compute_top_results_shape(input_shape, beam_size):\n",
    "    shape = tuple(list(input_shape[:-1]) + [beam_size])\n",
    "    return [shape, shape]"
   ]
  },
  {
   "cell_type": "code",
   "execution_count": 28,
   "metadata": {},
   "outputs": [],
   "source": [
    "def build_train_encoder_decoder_models(units_rnn_layer=1000, word_vec_dim=1000, beam_size=100):\n",
    "    number_rnn_layers = 4\n",
    "    \n",
    "    # inputs\n",
    "    encoder_inputs = Input(shape=(None,), dtype='int32', name='encoder_inputs')\n",
    "    decoder_inputs = Input(shape=(None,), dtype='int32', name='decoder_inputs')\n",
    "    \n",
    "    decoder_initial_state_inputs = []\n",
    "    for i in range(number_rnn_layers):\n",
    "        decoder_initial_state_inputs.append(Input(shape=(units_rnn_layer,), name=\"initial_state_h_%s\" % i))\n",
    "        decoder_initial_state_inputs.append(Input(shape=(units_rnn_layer,), name=\"initial_state_c_%s\" % i))\n",
    "        \n",
    "    # param initializer\n",
    "    # It is unclear if Sutskever et al. intended this initialization only for LSTM layers\n",
    "    # or for the entire network. I'm assuming the latter.\n",
    "    initializer = RandomUniform(minval=-0.08, maxval=0.08)\n",
    "    \n",
    "    # encoder layers\n",
    "    source_embedding = Embedding(MAX_ENGLISH_VOCAB+1, \n",
    "                                 word_vec_dim, \n",
    "                                 mask_zero=True, \n",
    "                                 name=\"source_embedding\", \n",
    "                                 embeddings_initializer=initializer)\n",
    "    \n",
    "    encoder_rnn_layers = []\n",
    "    for i in range(number_rnn_layers-1):\n",
    "        encoder_rnn_layers.append(LSTM(units_rnn_layer, \n",
    "                                       return_sequences=True, \n",
    "                                       return_state=True, \n",
    "                                       name=\"encoder_rnn_%s\" % i,\n",
    "                                       kernel_initializer=initializer))\n",
    "    encoder_rnn_layers.append(LSTM(units_rnn_layer, \n",
    "                                   return_state=True, \n",
    "                                   name=\"encoder_rnn_%s\" % (number_rnn_layers-1,),\n",
    "                                   kernel_initializer=initializer))\n",
    "    \n",
    "    \n",
    "    # decoder layers\n",
    "    target_embedding = Embedding(MAX_FRENCH_VOCAB+1, \n",
    "                                 word_vec_dim, \n",
    "                                 mask_zero=True, \n",
    "                                 name=\"target_embedding\",\n",
    "                                 embeddings_initializer=initializer)\n",
    "    \n",
    "    decoder_rnn_layers = []\n",
    "    for i in range(number_rnn_layers):\n",
    "        decoder_rnn_layers.append(LSTM(units_rnn_layer, \n",
    "                                       return_sequences=True, \n",
    "                                       return_state=True, \n",
    "                                       name=\"decoder_rnn_%s\" % i,\n",
    "                                       kernel_initializer=initializer))\n",
    "    \n",
    "    vocab_size = MAX_FRENCH_VOCAB+1\n",
    "    decoder_dense = TimeDistributed(Dense(vocab_size, \n",
    "                                          activation='linear', \n",
    "                                          name=\"decoder_projection\", \n",
    "                                          kernel_initializer=initializer))\n",
    "    \n",
    "    top_results_layer = Lambda(lambda x: compute_top_results(x, beam_size=beam_size),\n",
    "                               output_shape=lambda input_shape: compute_top_results_shape(input_shape, beam_size=beam_size))\n",
    "    \n",
    "    # build train model    \n",
    "    x = source_embedding(encoder_inputs)\n",
    "    \n",
    "    encoder_states = []\n",
    "    for encoder_rnn in encoder_rnn_layers:\n",
    "        x, state_h, state_c = encoder_rnn(x)\n",
    "        encoder_states.append(state_h)\n",
    "        encoder_states.append(state_c)\n",
    "    \n",
    "    x = target_embedding(decoder_inputs)\n",
    "    grouped_encoder_states = [encoder_states[i:i + 2] for i in range(0, len(encoder_states), 2)]\n",
    "    for (decoder_rnn, initial_state) in zip(decoder_rnn_layers, grouped_encoder_states):\n",
    "        x, _, _ = decoder_rnn(x, initial_state=initial_state)\n",
    "    x = decoder_dense(x)\n",
    "    \n",
    "    train_model = Model(inputs=[encoder_inputs, decoder_inputs], outputs=x)\n",
    "    sgd_optimizer = SGD(lr=0.7, clipnorm=5.)\n",
    "    \n",
    "    # This bit of hoodoo is thanks to https://github.com/tensorflow/tensorflow/issues/17150. It works around\n",
    "    # a bug where Keras cannot figure out the proper output shape.\n",
    "    decoder_target = tf.placeholder(dtype='int32', shape=(None, None))\n",
    "    train_model.compile(optimizer=sgd_optimizer, \n",
    "                        loss=sparse_cross_entropy, \n",
    "                        target_tensors=[decoder_target])\n",
    "    \n",
    "    # build encoder model\n",
    "    encoder_model = Model(inputs=encoder_inputs, outputs=encoder_states)\n",
    "\n",
    "    # build decoder model\n",
    "    x = target_embedding(decoder_inputs)\n",
    "    grouped_decoder_initial_state_inputs = [decoder_initial_state_inputs[i:i + 2] \n",
    "                                            for i in range(0, len(decoder_initial_state_inputs), 2)]\n",
    "    decoder_outputs = []\n",
    "    for (decoder_rnn, initial_state) in zip(decoder_rnn_layers, grouped_decoder_initial_state_inputs):\n",
    "        x, state_h, state_c = decoder_rnn(x, initial_state=initial_state)\n",
    "        decoder_outputs.append(state_h)\n",
    "        decoder_outputs.append(state_c)\n",
    "    x = decoder_dense(x)\n",
    "    top_values_indices = top_results_layer(x)\n",
    "    \n",
    "    decoder_model = Model(inputs=[decoder_inputs] + decoder_initial_state_inputs, outputs=top_values_indices + decoder_outputs)\n",
    "\n",
    "    return (train_model, encoder_model, decoder_model)"
   ]
  },
  {
   "cell_type": "markdown",
   "metadata": {},
   "source": [
    "During development, we inevitably make numerous tweaks to the model and need to reload it occasionally. To facilitate this, we need to clean up any previously created models and free GPU memory before re-instantiating the models. Accomplishing this is a bit finicky and unreliable, but short of sacrificing a goat, I don't know what else to do."
   ]
  },
  {
   "cell_type": "code",
   "execution_count": 29,
   "metadata": {},
   "outputs": [
    {
     "name": "stdout",
     "output_type": "stream",
     "text": [
      "__________________________________________________________________________________________________\n",
      "Layer (type)                    Output Shape         Param #     Connected to                     \n",
      "==================================================================================================\n",
      "encoder_inputs (InputLayer)     (None, None)         0                                            \n",
      "__________________________________________________________________________________________________\n",
      "decoder_inputs (InputLayer)     (None, None)         0                                            \n",
      "__________________________________________________________________________________________________\n",
      "source_embedding (Embedding)    (None, None, 1000)   80001000    encoder_inputs[0][0]             \n",
      "__________________________________________________________________________________________________\n",
      "target_embedding (Embedding)    (None, None, 1000)   40001000    decoder_inputs[0][0]             \n",
      "__________________________________________________________________________________________________\n",
      "encoder_rnn_0 (LSTM)            [(None, None, 1000), 8004000     source_embedding[0][0]           \n",
      "__________________________________________________________________________________________________\n",
      "decoder_rnn_0 (LSTM)            [(None, None, 1000), 8004000     target_embedding[0][0]           \n",
      "                                                                 encoder_rnn_0[0][1]              \n",
      "                                                                 encoder_rnn_0[0][2]              \n",
      "__________________________________________________________________________________________________\n",
      "encoder_rnn_1 (LSTM)            [(None, None, 1000), 8004000     encoder_rnn_0[0][0]              \n",
      "__________________________________________________________________________________________________\n",
      "decoder_rnn_1 (LSTM)            [(None, None, 1000), 8004000     decoder_rnn_0[0][0]              \n",
      "                                                                 encoder_rnn_1[0][1]              \n",
      "                                                                 encoder_rnn_1[0][2]              \n",
      "__________________________________________________________________________________________________\n",
      "encoder_rnn_2 (LSTM)            [(None, None, 1000), 8004000     encoder_rnn_1[0][0]              \n",
      "__________________________________________________________________________________________________\n",
      "decoder_rnn_2 (LSTM)            [(None, None, 1000), 8004000     decoder_rnn_1[0][0]              \n",
      "                                                                 encoder_rnn_2[0][1]              \n",
      "                                                                 encoder_rnn_2[0][2]              \n",
      "__________________________________________________________________________________________________\n",
      "encoder_rnn_3 (LSTM)            [(None, 1000), (None 8004000     encoder_rnn_2[0][0]              \n",
      "__________________________________________________________________________________________________\n",
      "decoder_rnn_3 (LSTM)            [(None, None, 1000), 8004000     decoder_rnn_2[0][0]              \n",
      "                                                                 encoder_rnn_3[0][1]              \n",
      "                                                                 encoder_rnn_3[0][2]              \n",
      "__________________________________________________________________________________________________\n",
      "time_distributed_1 (TimeDistrib (None, None, 40001)  40041001    decoder_rnn_3[0][0]              \n",
      "==================================================================================================\n",
      "Total params: 224,075,001\n",
      "Trainable params: 224,075,001\n",
      "Non-trainable params: 0\n",
      "__________________________________________________________________________________________________\n",
      "None\n"
     ]
    }
   ],
   "source": [
    "try:\n",
    "    del inference_helper\n",
    "except:\n",
    "    pass\n",
    "\n",
    "try:\n",
    "    del model\n",
    "except:\n",
    "    pass\n",
    "\n",
    "try:\n",
    "    del encoder_model\n",
    "except:\n",
    "    pass\n",
    "\n",
    "try:\n",
    "    del decoder_model\n",
    "except:\n",
    "    pass\n",
    "\n",
    "gc.collect()\n",
    "K.clear_session()\n",
    "gc.collect()\n",
    "\n",
    "model, encoder_model, decoder_model = build_train_encoder_decoder_models()\n",
    "print(model.summary())"
   ]
  },
  {
   "cell_type": "markdown",
   "metadata": {},
   "source": [
    "The training model takes batches of source and target sequences, as provided by an instance of `BitextSequence`, and outputs logits for every time-step of the target sequence:"
   ]
  },
  {
   "cell_type": "code",
   "execution_count": 30,
   "metadata": {},
   "outputs": [
    {
     "name": "stdout",
     "output_type": "stream",
     "text": [
      "Train model output shape: (128, 20, 40001)\n",
      "Train model cost output: 10.601037502288818\n"
     ]
    }
   ],
   "source": [
    "((encoder_input_samples, decoder_input_samples), labels) = train_bitext_sequence[20]\n",
    "# model.evaluate(x=[encoder_input_samples, decoder_input_samples], y=labels)\n",
    "train_model_output = model.predict([encoder_input_samples, decoder_input_samples])\n",
    "print(\"Train model output shape:\", train_model_output.shape)\n",
    "train_cost_output = model.evaluate(x=[encoder_input_samples, decoder_input_samples], y=labels, verbose=0)\n",
    "print(\"Train model cost output:\", train_cost_output)"
   ]
  },
  {
   "cell_type": "markdown",
   "metadata": {},
   "source": [
    "The encoder model takes as input a batch of source sequences and outputs each LSTM layer's output and state (these are the thought vectors). The decoder model takes thought vectors and previous word input for the target, and outputs the top 100 words next possible words for every sample:"
   ]
  },
  {
   "cell_type": "code",
   "execution_count": 31,
   "metadata": {},
   "outputs": [
    {
     "name": "stdout",
     "output_type": "stream",
     "text": [
      "Number of encoder outputs: 8\n",
      "Shape of each encoder output: (1, 1000)\n",
      "Shape of top log probabilities: (1, 1, 100)\n",
      "Shape of top word indices: (1, 1, 100)\n",
      "Top 10 word indices: [30956  6931 12876  7775  8401 39762  9886  4403 16279 14601]\n",
      "Number decoder outputs for next word: 8\n",
      "Shape of each decoder output for next word: (1, 1000)\n"
     ]
    }
   ],
   "source": [
    "((encoder_input_samples, decoder_input_samples), labels) = train_bitext_sequence[20]\n",
    "encoder_input_sample = encoder_input_samples[:1]\n",
    "encoder_outputs_states = encoder_model.predict(encoder_input_sample)\n",
    "\n",
    "assert 1 == len(set([output.shape for output in encoder_outputs_states]))\n",
    "\n",
    "print(\"Number of encoder outputs:\", len(encoder_outputs_states))\n",
    "print(\"Shape of each encoder output:\", encoder_outputs_states[0].shape)\n",
    "\n",
    "top_log_probs, top_word_indices, *decoder_outputs_states = decoder_model.predict(\n",
    "    [np.array([util.SOS_IDX], dtype='int32')]+encoder_outputs_states)\n",
    "\n",
    "assert 1 == len(set([output.shape for output in decoder_outputs_states]))\n",
    "\n",
    "print(\"Shape of top log probabilities:\", top_log_probs.shape)\n",
    "print(\"Shape of top word indices:\", top_word_indices.shape)\n",
    "print(\"Top 10 word indices:\", top_word_indices[0,0,:10])\n",
    "print(\"Number decoder outputs for next word:\", len(decoder_outputs_states))\n",
    "print(\"Shape of each decoder output for next word:\", decoder_outputs_states[0].shape)"
   ]
  },
  {
   "cell_type": "markdown",
   "metadata": {},
   "source": [
    "## Training the Model"
   ]
  },
  {
   "cell_type": "markdown",
   "metadata": {},
   "source": [
    "We use a checkpoint callback to save the model weights at the end of each epoch. This is useful for saving progress in case training gets interrupted, and also permits us to analyze the model at different points during training:"
   ]
  },
  {
   "cell_type": "code",
   "execution_count": 32,
   "metadata": {},
   "outputs": [],
   "source": [
    "model_checkpoint_filename_pattern = util.get_weight_filename_pattern(MODEL_WEIGHTS_DIRECTORY)\n",
    "checkpoint_callback = ModelCheckpoint(model_checkpoint_filename_pattern, period=1, save_weights_only=True)"
   ]
  },
  {
   "cell_type": "markdown",
   "metadata": {},
   "source": [
    "It can take multiple days to train the model for one iteration. Ideally, we'd like to trigger our end-of-epoch callbacks, like the one for saving weights, more frequently than that. To accomplish this, we will redefine an epoch to be a partial iteration. This will cause Keras to trigger the end-of-epoch callbacks multiple times each iteration:"
   ]
  },
  {
   "cell_type": "code",
   "execution_count": 33,
   "metadata": {},
   "outputs": [],
   "source": [
    "EPOCHS_PER_ITERATION = 40"
   ]
  },
  {
   "cell_type": "markdown",
   "metadata": {},
   "source": [
    "Like Sutskever, we adjust the learning rate down in later iterations during training. We start with a learning rate of `0.7` and halve the learning every half iteration after the fifth. We use a `LearningRateScheduler` callback to accomplish this, keeping in mind we are using multiple epochs per iteration:"
   ]
  },
  {
   "cell_type": "code",
   "execution_count": 34,
   "metadata": {},
   "outputs": [],
   "source": [
    "def create_update_learning_rate_fn(start_lr):\n",
    "    epoch_of_5th_iteration = EPOCHS_PER_ITERATION * 5\n",
    "    epochs_in_half_iteration = EPOCHS_PER_ITERATION // 2\n",
    "    def update_learning_rate(epoch_index, lr):\n",
    "        # NOTE: We do not want to half the lr parameter. Doing so has a bad interaction with\n",
    "        # with training interruption. For example, on iteration 6, we should have a lerning\n",
    "        # rate of 0.175 (assuming start_lr == 0.7). However, if at the beginning of iteration\n",
    "        # 6 we reload the notebook and pick up training where we left off, if we simply half\n",
    "        # lr we will have a learning rate of 0.35! This is because, after restart, \n",
    "        # update_learning_rate will only be called on epochs >= the epoch training is \n",
    "        # continued from. To get around this, we rely exclusively on the epoch_index and \n",
    "        # start_lr for determing the current learning rate.\n",
    "        number_times_to_halve = max(0, (epoch_index - epoch_of_5th_iteration) // epochs_in_half_iteration)\n",
    "        return start_lr / (2**number_times_to_halve)\n",
    "    return update_learning_rate\n",
    "update_learning_rate = create_update_learning_rate_fn(0.7)\n",
    "lr_callback = LearningRateScheduler(update_learning_rate, verbose=1)"
   ]
  },
  {
   "cell_type": "code",
   "execution_count": 35,
   "metadata": {},
   "outputs": [
    {
     "name": "stdout",
     "output_type": "stream",
     "text": [
      "Learning rate after 5.0 iterations: 0.7\n",
      "Learning rate after 5.5 iterations: 0.35\n",
      "Learning rate after 6.0 iterations: 0.175\n"
     ]
    }
   ],
   "source": [
    "learning_rate_iteration_5_0 = update_learning_rate(int(5.0 * EPOCHS_PER_ITERATION), None)\n",
    "learning_rate_iteration_5_5 = update_learning_rate(int(5.5 * EPOCHS_PER_ITERATION), None)\n",
    "learning_rate_iteration_6_0 = update_learning_rate(int(6.0 * EPOCHS_PER_ITERATION), None)\n",
    "assert 0.7 == learning_rate_iteration_5_0\n",
    "assert 0.35 == learning_rate_iteration_5_5\n",
    "assert 0.175 == learning_rate_iteration_6_0\n",
    "print(\"Learning rate after 5.0 iterations:\", learning_rate_iteration_5_0)\n",
    "print(\"Learning rate after 5.5 iterations:\", learning_rate_iteration_5_5)\n",
    "print(\"Learning rate after 6.0 iterations:\", learning_rate_iteration_6_0)"
   ]
  },
  {
   "cell_type": "markdown",
   "metadata": {},
   "source": [
    "In order to translate between `EPOCHS_PER_ITERATION` and the epochs `BitextSequence` instances expect, we wrap them with an instance of `EpochAsPartialIterationSequenceWrapper`. This wrapper will handle making calls to `on_epoch_end(..)` on our `BitextSequence` instances as appropriate and will allow us to pick up approximately where we left off if training is interrupted in the middle of an iteration:"
   ]
  },
  {
   "cell_type": "code",
   "execution_count": 36,
   "metadata": {},
   "outputs": [
    {
     "name": "stdout",
     "output_type": "stream",
     "text": [
      "Number batches in train_bitext_sequence: 146576\n",
      "Number batches in train_bitext_sequence_wrapped: 3664\n",
      "Iteration complete, shuffling data\n"
     ]
    }
   ],
   "source": [
    "train_bitext_sequence_wrapped = util.EpochAsPartialIterationSequenceWrapper(train_bitext_sequence, \n",
    "                                                                            EPOCHS_PER_ITERATION)\n",
    "print(\"Number batches in train_bitext_sequence:\", len(train_bitext_sequence))\n",
    "print(\"Number batches in train_bitext_sequence_wrapped:\", len(train_bitext_sequence_wrapped))\n",
    "\n",
    "# Note that `on_epoch_end()` must be called `EPOCHS_PER_ITERATION` times on the \n",
    "# `EpochAsPartialIterationSequenceWrapper` instance before `on_epoch_end()` is called on \n",
    "# the underlying sequence causing it to be shuffled.\n",
    "for _ in range(EPOCHS_PER_ITERATION):\n",
    "    train_bitext_sequence_wrapped.on_epoch_end()\n",
    "    \n",
    "del train_bitext_sequence_wrapped # we'll create a new wrapper during training"
   ]
  },
  {
   "cell_type": "markdown",
   "metadata": {},
   "source": [
    "Before training, we load the last saved weights and set `current_epoch` to the appropriate epoch index:"
   ]
  },
  {
   "cell_type": "code",
   "execution_count": 37,
   "metadata": {},
   "outputs": [
    {
     "name": "stdout",
     "output_type": "stream",
     "text": [
      "Loading weights from ./model_checkpoints/weights.300-1.9027-1.4531.h5\n"
     ]
    }
   ],
   "source": [
    "current_epoch=0\n",
    "# load last saved weights if present\n",
    "weight_file_and_epoch = util.latest_epoch_and_weights_file(MODEL_WEIGHTS_DIRECTORY)\n",
    "if weight_file_and_epoch:\n",
    "    weights_file, current_epoch = weight_file_and_epoch\n",
    "    print(\"Loading weights from %s\" % weights_file)\n",
    "    model.load_weights(weights_file)"
   ]
  },
  {
   "cell_type": "markdown",
   "metadata": {},
   "source": [
    "Now we begin training. Note that it took 23 days to train this model, so the next cell can take a while to run if starting from scratch. However, due to our efforts above, it should be possible to interrupt training with minimal time lost."
   ]
  },
  {
   "cell_type": "code",
   "execution_count": 38,
   "metadata": {},
   "outputs": [],
   "source": [
    "if current_epoch < int(7.5*EPOCHS_PER_ITERATION):\n",
    "    train_bitext_sequence_wrapped = util.EpochAsPartialIterationSequenceWrapper(\n",
    "    train_bitext_sequence,\n",
    "    EPOCHS_PER_ITERATION)\n",
    "    train_bitext_sequence_wrapped.switch_to_epoch(current_epoch)\n",
    "\n",
    "    model.fit_generator(\n",
    "        generator=train_bitext_sequence_wrapped,\n",
    "        validation_data=dev_bitext_sequence,\n",
    "        steps_per_epoch=train_bitext_sequence_wrapped.steps_per_epoch,\n",
    "        shuffle=False, # our sequence type does this for us\n",
    "        initial_epoch=current_epoch,\n",
    "        epochs=int(EPOCHS_PER_ITERATION*7.5),\n",
    "        workers=2,\n",
    "        callbacks=[checkpoint_callback, lr_callback])"
   ]
  },
  {
   "cell_type": "markdown",
   "metadata": {},
   "source": [
    "Now we can plot the loss on our validation and training sets: "
   ]
  },
  {
   "cell_type": "code",
   "execution_count": 39,
   "metadata": {},
   "outputs": [
    {
     "data": {
      "image/png": "[encoded data removed]",
      "text/plain": [
       "<Figure size 432x288 with 1 Axes>"
      ]
     },
     "metadata": {},
     "output_type": "display_data"
    }
   ],
   "source": [
    "def plot_loss(model_weights_directory):\n",
    "    model_props = [props for (f, props) in util.list_all_weight_files_and_props(model_weights_directory)]\n",
    "    model_props_by_epoch = sorted(model_props, key=lambda x: x[0])\n",
    "    (epoch, val_loss, loss) = zip(*model_props_by_epoch)\n",
    "    epoch = [epoch / 40.0 for epoch in epoch]\n",
    "    plt.plot(epoch, loss, label='train loss')\n",
    "    plt.plot(epoch, val_loss, label='validation loss')\n",
    "    plt.legend()\n",
    "    plt.xlabel('Iteration')\n",
    "    plt.ylabel('Loss')\n",
    "    plt.title(\"Train and Validation Loss per Epoch\")\n",
    "    plt.xlim(0, epoch[-1])\n",
    "    plt.show()\n",
    "    \n",
    "plot_loss(MODEL_WEIGHTS_DIRECTORY)"
   ]
  },
  {
   "cell_type": "markdown",
   "metadata": {},
   "source": [
    "Note the anomaly between iterations 0.5 and 1 where the loss appears to shoot up. This is due to error in `sparse_cross_entropy(..)` above. Originally, the function returned a scalar, instead of a tensor with the same dimensions as the labels, which led Keras to incorrectly adjust the loss based on the padding. Consequently, the loss was lower than it should have been until the bug was corrected around iteration 1. "
   ]
  },
  {
   "cell_type": "markdown",
   "metadata": {},
   "source": [
    "## Generating Translations"
   ]
  },
  {
   "cell_type": "markdown",
   "metadata": {},
   "source": [
    "We use a beam search to generate translations. There are a number of ways to implement beam search, in particular around the stop condition, and the specifics of how it was implemented in Sutskever are unclear. It turns out the way we have implemented it below is similar to Bahdanau et al. (2014) in that we shrink the beam length every time a candidate translation is completed until the beam length becomes zero. According to Huang et al. (2017), this approach is suboptimal, but such is life.\n",
    "\n",
    "We use 0.7 for the sentence length normalization constant. Without normalization, beam search tends to prefer succinct, but perhaps less accurate, translations over longer, perhaps more natural, translations. If we set this constant to 0, there would be no normalization, if we set this constant to 1, the probability of a candidate translation would be divided by the number of words in the sentence--effectively eliminating sentence length as a consideration. Everything in-between, such as 0.7 as we have chosen, is a compromise between the two.\n",
    "\n",
    "Also, another note concerning the below implementation: it is incredibly and unbelievably slow. Probably don't reuse this code. I'm sure better implementations exist."
   ]
  },
  {
   "cell_type": "code",
   "execution_count": 40,
   "metadata": {},
   "outputs": [],
   "source": [
    "#@do_profile(follow=[])\n",
    "def beam_search(encoder_output_states, decoder_model, maxlen, \n",
    "                sos_token_index, eos_token_index, oov_token_index=util.OOV_IDX, \n",
    "                black_list=None,\n",
    "                beam_length=10, alpha=0.7):\n",
    "    \n",
    "    if black_list is None:\n",
    "        black_list = [oov_token_index]\n",
    "    \n",
    "    completed_candidates = []\n",
    "    \n",
    "    previous_state_arrays = encoder_output_states[:]\n",
    "    decoder_inputs = np.array([[sos_token_index]])\n",
    "    candidate_log_prob_sum = np.array([[0]])\n",
    "    \n",
    "    while len(completed_candidates) < beam_length:\n",
    "        shrunk_beam_length = beam_length - len(completed_candidates)\n",
    "        \n",
    "        previous_token_idxs = decoder_inputs[:,-1:]\n",
    "        top_log_probs, top_indices, *previous_state_arrays = decoder_model.predict([previous_token_idxs] + previous_state_arrays)\n",
    "        \n",
    "        # remove uneeded time dimension (since we are only looking one word at a time)\n",
    "        top_log_probs = np.squeeze(top_log_probs, axis=1)\n",
    "        top_indices = np.squeeze(top_indices, axis=1)\n",
    "        \n",
    "        # sort log probs and word indices by log prob\n",
    "        sorted_indices = np.argsort(top_log_probs, axis=-1)\n",
    "        top_log_probs = top_log_probs[np.arange(np.shape(top_log_probs)[0])[:,np.newaxis], sorted_indices]\n",
    "        top_indices = top_indices[np.arange(np.shape(top_log_probs)[0])[:,np.newaxis], sorted_indices]\n",
    "\n",
    "        # for each candidate, calc the sum of log probabilities for potential next words        \n",
    "        candidate_top_choices_indices = top_indices[:, -shrunk_beam_length:]\n",
    "        candidate_top_choices = top_log_probs[:, -shrunk_beam_length:]\n",
    "        candidate_top_choices = np.add(candidate_top_choices, candidate_log_prob_sum, candidate_top_choices)\n",
    "            \n",
    "        # get indices of next top word choices\n",
    "        indices_1d = np.argpartition(candidate_top_choices, -shrunk_beam_length, axis=None)[-shrunk_beam_length:]\n",
    "        candidate_idxs, top_choices_idxs = np.unravel_index(indices_1d, candidate_top_choices.shape)\n",
    "        \n",
    "        # map top_choices_idxs back to the corresponding word indices\n",
    "        word_idxs = candidate_top_choices_indices[candidate_idxs, top_choices_idxs]\n",
    "        \n",
    "        # update previous state arrays for top candidates\n",
    "        previous_state_arrays = [prev[candidate_idxs,:] for prev in previous_state_arrays]\n",
    "        \n",
    "        # update decoder inputs for next iteration\n",
    "        decoder_inputs = np.append(decoder_inputs[candidate_idxs, :], \n",
    "                                   np.array(word_idxs).reshape((len(word_idxs), 1)),\n",
    "                                   axis=1)\n",
    "        \n",
    "        # update candidate prob based on top candidates\n",
    "        candidate_log_prob_sum = candidate_top_choices[candidate_idxs, top_choices_idxs].reshape(len(candidate_idxs), 1)\n",
    "        \n",
    "        # extract any completed candidates\n",
    "        incomplete_candidates = []\n",
    "        for candidate_idx in range(len(decoder_inputs)):\n",
    "            if decoder_inputs[candidate_idx][-1] == eos_token_index or decoder_inputs.shape[1] > maxlen:\n",
    "                completed_candidates.append((candidate_log_prob_sum[candidate_idx], decoder_inputs[candidate_idx]))\n",
    "            else:\n",
    "                incomplete_candidates.append(candidate_idx)\n",
    "        \n",
    "        # update values accounting for completed candidates\n",
    "        decoder_inputs = decoder_inputs[incomplete_candidates]\n",
    "        candidate_log_prob_sum = candidate_log_prob_sum[incomplete_candidates]\n",
    "        previous_state_arrays = [prev[incomplete_candidates,:] for prev in previous_state_arrays]\n",
    "    \n",
    "    # return candidate with highest probability accounting for sentence length normalization\n",
    "    def normalize_prob_by_sentence_length(completed_candidate):\n",
    "        prob, tokens = completed_candidate\n",
    "        return prob / (len(tokens)**(alpha))\n",
    "    \n",
    "    sorted_completed_candidates = sorted(completed_candidates, \n",
    "                                         reverse=True, \n",
    "                                         key=normalize_prob_by_sentence_length)\n",
    "    output_indices = sorted_completed_candidates[0]\n",
    "    \n",
    "    return output_indices[1][1:]"
   ]
  },
  {
   "cell_type": "markdown",
   "metadata": {},
   "source": [
    "The following `InferenceHelper` class takes care of the ceremony involved in translating texts using a beam search. You can translate source texts to target texts, source sequences to target sequences, source sequences to thought vectors, and thought vectors to target sequences."
   ]
  },
  {
   "cell_type": "code",
   "execution_count": 41,
   "metadata": {},
   "outputs": [],
   "source": [
    "def assert_valid_thought_vector(thought_vector):\n",
    "    assert len(thought_vector) == 8, \"Expected 8 entries in thought vector but found %s\" % len(thought_vector)"
   ]
  },
  {
   "cell_type": "code",
   "execution_count": 42,
   "metadata": {},
   "outputs": [],
   "source": [
    "def encoder_states_to_thought_vectors(encoder_states):\n",
    "    (samples, units) = encoder_states[0].shape\n",
    "    thought_vectors = [[np.reshape(state, (1,units)) for state in thought_vector] \n",
    "                       for thought_vector in zip(*encoder_states)]\n",
    "    assert len(thought_vectors) == samples\n",
    "    return thought_vectors"
   ]
  },
  {
   "cell_type": "code",
   "execution_count": 43,
   "metadata": {},
   "outputs": [],
   "source": [
    "def build_keras_tokenizer(word_index, vocab_size):\n",
    "    new_word_index = {w: i for (w, i) in word_index.items() if i < vocab_size+1}\n",
    "    tokenizer = Tokenizer(num_words=vocab_size, char_level=False, oov_token=util.OOV_TOKEN)\n",
    "    tokenizer.word_index = new_word_index\n",
    "    return tokenizer"
   ]
  },
  {
   "cell_type": "code",
   "execution_count": 44,
   "metadata": {},
   "outputs": [],
   "source": [
    "class InferenceHelper:\n",
    "    def __init__(self, \n",
    "                 encoder_model, decoder_model, \n",
    "                 source_word_index, target_word_index,\n",
    "                 source_vocab_size, target_vocab_size,\n",
    "                 source_lang, target_lang):\n",
    "        \n",
    "        self.target_tokenizer = build_keras_tokenizer(target_word_index, target_vocab_size)\n",
    "        self.source_tokenizer = build_keras_tokenizer(source_word_index, source_vocab_size)\n",
    "        \n",
    "        self.target_lang = target_lang\n",
    "        self.source_lang = source_lang\n",
    "        \n",
    "        self.encoder_model = encoder_model\n",
    "        self.decoder_model = decoder_model\n",
    "        self.target_index_to_word = {i: w for (w, i) in self.target_tokenizer.word_index.items()}\n",
    "        self.source_index_to_word = {i: w for (w, i) in self.source_tokenizer.word_index.items()}\n",
    "        \n",
    "    def _sequences_to_texts(self, index_to_word, lang, sequences):\n",
    "        with MosesDetokenizer(lang=lang) as detokenize:\n",
    "            texts = ([index_to_word[i] for i in sequence if i != 0 and i != util.EOS_IDX] for sequence in sequences)\n",
    "            return list(map(detokenize, texts))\n",
    "    \n",
    "    def _texts_to_sequences(self, keras_tokenizer, lang, texts):\n",
    "        with MosesTokenizer(lang=lang) as tokenize:\n",
    "            tokens_lists = list(map(lambda x: x + [util.EOS_TOKEN], map(tokenize, texts)))\n",
    "            sequences = keras_tokenizer.texts_to_sequences(tokens_lists)\n",
    "            return sequences\n",
    "\n",
    "    def sequences_to_target_texts(self, sequences):\n",
    "        return self._sequences_to_texts(self.target_index_to_word, self.target_lang, sequences)\n",
    "    \n",
    "    def sequences_to_source_texts(self, sequences):\n",
    "        return self._sequences_to_texts(self.source_index_to_word, self.source_lang, sequences)\n",
    "    \n",
    "    def sequences_to_target_tokens(self, sequences):\n",
    "        return [[self.target_index_to_word[i] for i in sequence if i != 0 and i != util.EOS_IDX] \n",
    "                for sequence in sequences]\n",
    "    \n",
    "    def source_sequences_to_thought_vectors(self, source_sequences):\n",
    "        # From predict we get back parallel arrays for the encoder output states:\n",
    "        #\n",
    "        #    LSTM1_h, LSTM1_c, ..., LSTMn_h, LSTMn_c\n",
    "        #\n",
    "        # We want to return a list thought_vectors s.t. thought_vectors[i] \n",
    "        # returns the relevant LSTM states for source_sequences[i]. The use of\n",
    "        # zip beblow achieves this.\n",
    "        if not isinstance(source_sequences, np.ndarray):\n",
    "            source_sequences = pad_sequences(source_sequences, \n",
    "                                             dtype='int32', \n",
    "                                             padding='pre', \n",
    "                                             value=0)\n",
    "        encoder_states = self.encoder_model.predict(source_sequences)\n",
    "        thought_vectors = encoder_states_to_thought_vectors(encoder_states)\n",
    "        for thought_vector in thought_vectors:\n",
    "            assert_valid_thought_vector(thought_vector)\n",
    "        return list(thought_vectors)\n",
    "    \n",
    "    def translate_thought_vectors_to_target_sequences(self, thought_vectors, beam_length=100):\n",
    "        # The way beam_search is implemented, we only support translating \n",
    "        # one sentence at a time. Consequently, we'll need to iterate over\n",
    "        # the thought vectors and do one translation at a time.\n",
    "        target_sequences = []\n",
    "        for thought_vector in thought_vectors:\n",
    "            assert_valid_thought_vector(thought_vector)\n",
    "            sos_index = self.target_tokenizer.word_index['<s>']\n",
    "            eos_index = self.target_tokenizer.word_index['</s>']\n",
    "            oov_index = self.target_tokenizer.word_index[util.OOV_TOKEN]\n",
    "            target_sequence = beam_search(\n",
    "                thought_vector, \n",
    "                decoder_model=self.decoder_model, \n",
    "                maxlen=200,\n",
    "                sos_token_index=sos_index, \n",
    "                eos_token_index=eos_index, \n",
    "                oov_token_index=oov_index, \n",
    "                beam_length=beam_length)\n",
    "            target_sequences.append(target_sequence)\n",
    "        return target_sequences\n",
    "    \n",
    "    def translate_sequences_to_sequences(self, source_sequences, beam_length=100):\n",
    "        return self.translate_thought_vectors_to_target_sequences(\n",
    "            self.source_sequences_to_thought_vectors(source_sequences),\n",
    "            beam_length=beam_length)\n",
    "    \n",
    "    def translate_texts_to_texts(self, source_texts, beam_length=100):\n",
    "        source = self._texts_to_sequences(self.source_tokenizer, 'en', source_texts)\n",
    "        for sequence in source:\n",
    "            sequence.reverse()\n",
    "        target = self.translate_sequences_to_sequences(source, beam_length=beam_length)\n",
    "        target_texts = self.sequences_to_target_texts(target)\n",
    "        return target_texts"
   ]
  },
  {
   "cell_type": "code",
   "execution_count": 45,
   "metadata": {},
   "outputs": [],
   "source": [
    "inference_helper = InferenceHelper(encoder_model, decoder_model, \n",
    "                                   word_index_source, word_index_target,\n",
    "                                   MAX_ENGLISH_VOCAB, MAX_FRENCH_VOCAB,\n",
    "                                   'en', 'fr')"
   ]
  },
  {
   "cell_type": "markdown",
   "metadata": {},
   "source": [
    "Some example translations using `InferenceHelper`:"
   ]
  },
  {
   "cell_type": "code",
   "execution_count": 46,
   "metadata": {},
   "outputs": [
    {
     "data": {
      "text/plain": [
       "['Bonjour !',\n",
       " 'En fin de compte !',\n",
       " 'Les idées vertes ont du mal à dormir.',\n",
       " \"L'officier de police a vu l'homme avec le télescope.\"]"
      ]
     },
     "execution_count": 46,
     "metadata": {},
     "output_type": "execute_result"
    }
   ],
   "source": [
    "inference_helper.translate_texts_to_texts([\n",
    "    \"Hello!\",\n",
    "    \"Goodbye!\",\n",
    "    \"Green colorless ideas sleep furiously.\",\n",
    "    \"The police officer saw the man with the telescope.\"\n",
    "], beam_length=12)"
   ]
  },
  {
   "cell_type": "markdown",
   "metadata": {},
   "source": [
    "Below we translate a subset of the dev data. We reviewed the result of this periodically to monitor how well translations improved during training:"
   ]
  },
  {
   "cell_type": "code",
   "execution_count": 47,
   "metadata": {},
   "outputs": [],
   "source": [
    "def print_translation_summary(inference_helper, X, y, line_length=120):\n",
    "    # source sentences\n",
    "    source_sequences = [list(s) for s in X]\n",
    "    for s in source_sequences:\n",
    "        s.reverse()\n",
    "    source_texts = inference_helper.sequences_to_source_texts(source_sequences)\n",
    "\n",
    "    # translations\n",
    "    translated_sequences = [inference_helper.translate_sequences_to_sequences([sequence], beam_length=12)[0] \n",
    "                            for (sequence,label) in zip(X, y)]\n",
    "    translated_texts = inference_helper.sequences_to_target_texts(translated_sequences)\n",
    "\n",
    "    # labels\n",
    "    label_texts = inference_helper.sequences_to_target_texts(y)\n",
    "    \n",
    "    # print everything\n",
    "    for (source, label, translation) in zip(source_texts, label_texts, translated_texts):\n",
    "        place_holder = \"{0:.\" + str(line_length) + \"s}\"\n",
    "        print(place_holder.format(source))\n",
    "        print(place_holder.format(label))\n",
    "        print(place_holder.format(translation))\n",
    "        print()"
   ]
  },
  {
   "cell_type": "code",
   "execution_count": 48,
   "metadata": {
    "scrolled": false
   },
   "outputs": [
    {
     "name": "stdout",
     "output_type": "stream",
     "text": [
      "Czechs qualified for EURO.\n",
      "Les tchèques se sont qualifiés pour l'EURO.\n",
      "Les Tchèques sont qualifiés pour l'EURO.\n",
      "\n",
      "In Montenegro they won 1: 0 and celebrate a 200 million windfall.\n",
      "Ils ont gagné au Monténégro 1 : 0 et <unk> la qualification pour 200 millions\n",
      "Au Monténégro, ils ont gagné 1 : 0 et célèbrent 200 millions d'euros.\n",
      "\n",
      "Football representation successfully managed the toughest task of the season!\n",
      "La représentation du football a réussi sa plus difficile mission de la saison !\n",
      "La représentation de football a réussi à gérer la tâche la plus difficile de la saison !\n",
      "\n",
      "<unk> watched the progress match in a detailed report.\n",
      "<unk> a suivi le match de qualification avec un reportage détaillé.\n",
      "Les participants ont examiné les progrès accomplis dans un rapport détaillé.\n",
      "\n",
      "<unk> and <unk> became the match's least lucky couple after losing two great opportunities.\n",
      "Les <unk> du match ont été <unk> et <unk> qui ont <unk> deux chances de marquer un but.\n",
      "C'est la première fois qu'il s'agit d'un des jeux les plus populaires de l'année.\n",
      "\n",
      "From the opening minutes, the game was very <unk>.\n",
      "Dès les premières minutes on a joué un football guerrier.\n",
      "D'après les heures d'ouverture, le jeu était très serré.\n",
      "\n",
      "Iranian Students Are Prepared to Die for Their Country's Nuclear Program\n",
      "Les étudiants iraniens sont prêts à mourir pour le programme nucléaire de leur pays.\n",
      "Les étudiants iraniens sont prêts à présenter un livre pour le programme nucléaire de leur pays\n",
      "\n",
      "They created a live shield.\n",
      "Ils ont créé un bouclier humain\n",
      "Ils ont créé un bouclier vivant.\n",
      "\n",
      "The gesture is to express their support of their country's nuclear program against a possible Israel attack.\n",
      "Ils veulent soutenir par ce geste le programme nucléaire de leur pays face à un éventuel assaut israélien.\n",
      "Le geste est d'exprimer leur soutien au programme nucléaire de leur pays contre une éventuelle attaque israélienne.\n",
      "\n",
      "Possible attack on Iran nuclear facilities has been discussed in Israel.\n",
      "On fait état en Israël d'une possible attaque des établissements nucléaires iraniens.\n",
      "Une éventuelle attaque contre des installations nucléaires iraniennes a été discutée en Israël.\n",
      "\n",
      "The research was performed among 900 children.\n",
      "Enquête menée sur 900 enfants\n",
      "La recherche a été menée auprès de 900 enfants.\n",
      "\n",
      "No lunch and sausage in the evening\n",
      "Sans petit déjeuner et charcuterie au dîner\n",
      "Pas de déjeuner et de saucisses dans la soirée\n",
      "\n",
      "In the Czech Republic, only 23% of schoolchildren's families have breakfast together.\n",
      "En <unk>, seulement 23 % des familles des élèves mangent à la ma même heure.\n",
      "En République tchèque, seulement 23 % des familles des écoliers ont le petit déjeuner ensemble.\n",
      "\n",
      "In a majority of families, everyone has breakfast separately.\n",
      "Dans la majeure partie des familles chacun prend son petit déjeuner seul.\n",
      "Dans la majorité des familles, tout le monde a le petit déjeuner séparément.\n",
      "\n",
      "Yet breakfast is the core of proper daily diet.\n",
      "Le petit déjeuner est pourtant la base d'une bonne alimentation quotidienne.\n",
      "Mais le petit déjeuner est le cœur d'une alimentation quotidienne saine.\n",
      "\n",
      "A survey has shown that fries are consumed more often in the families of obese children.\n",
      "Le questionnaire a montré que dans les familles des enfants obèses on consomme plus souvent des frites <unk>.\n",
      "Un sondage a montré que les frites sont consommées plus souvent dans les familles d'enfants obèses.\n",
      "\n",
      "<unk> your own menu\n",
      "<unk> toi ton alimentation\n",
      "Choisissez votre propre menu\n",
      "\n",
      "Their favourite meals include large number of flour, meat, and sweet dishes.\n",
      "Parmi leurs plats préférés il y a beaucoup de gâteaux, des viandes et des <unk>.\n",
      "Leurs repas préférés comprennent un grand nombre de farine, de viande et de plats frais.\n",
      "\n",
      "As the main dish for lunch, pasta won very tightly over poultry.\n",
      "Pour le déjeuner ce sont les pâtes qui ont pris la première place juste devant la viande blanche.\n",
      "Comme le plat principal pour le déjeuner, les pâtes sont très fortes sur la volaille.\n",
      "\n",
      "<unk> towards health\n",
      "Cap sur la santé\n",
      "Lutte contre la santé\n",
      "\n"
     ]
    }
   ],
   "source": [
    "samp_ids = util.build_threshold_to_ids(X_dev, \n",
    "                                       y_dev, \n",
    "                                       [20], \n",
    "                                       truncate=False)[20][20:40]\n",
    "X_samp = [X_dev[i] for i in samp_ids]\n",
    "y_samp = [y_dev[i] for i in samp_ids]\n",
    "print_translation_summary(inference_helper, X_samp, y_samp, line_length=200)"
   ]
  },
  {
   "cell_type": "markdown",
   "metadata": {},
   "source": [
    "## Measuring Translation Quality"
   ]
  },
  {
   "cell_type": "markdown",
   "metadata": {},
   "source": [
    "To measure quality of translations we use BLEU scores. Unfortunately, it turns out there are numerous ways to calculate the BLEU score, so knowing the average BLEU score a model achieves does not, on its own, tell one much. Like Sutskever, we use the `multi-bleu.perl`<sup>7</sup> for calculating BLEU scores."
   ]
  },
  {
   "cell_type": "markdown",
   "metadata": {},
   "source": [
    "We want to get the BLEU score of our model on both our dev (`X_dev` and `y_dev`) and test data (`X_test` and `y_test`), which correspond to the ntst1213 and ntst14 datasets respectively. (Admittedly, this relationship is unclear, and you'd have to dig into the implementation of `util.load_data(..)` to know.) To accomplish this, we generate translations of these datasets and dump them to files suitable for consumption by `multi-bleu.perl`. We do this for both a beam size of 1 and 12 for comparison with Sutskever's results. Both the `create_tokenized_translations(..)` and `generate_tokenized_translations(..)` below facilitate this:"
   ]
  },
  {
   "cell_type": "code",
   "execution_count": 49,
   "metadata": {},
   "outputs": [],
   "source": [
    "def create_tokenized_translations(inference_helper, X, beam_length, output_file):\n",
    "    import time\n",
    "    batch_size = 32\n",
    "    print(\"Writing file\", output_file)\n",
    "    with open(output_file, 'w', encoding='utf-8') as f:\n",
    "        number_batches = int(np.ceil(len(X)/batch_size))\n",
    "        for i in range(number_batches):\n",
    "            if i % 10 == 0:\n",
    "                print(\"Processing batch\", i, \"of\", number_batches, end='\\r')\n",
    "            samples = X[(i*batch_size):(i+1)*batch_size]\n",
    "            target_sequences = inference_helper.translate_sequences_to_sequences(samples, beam_length=beam_length)\n",
    "            target_tokenized = inference_helper.sequences_to_target_tokens(target_sequences)\n",
    "            for tokenized_line in target_tokenized:\n",
    "                f.write(' '.join(tokenized_line)+'\\n')"
   ]
  },
  {
   "cell_type": "code",
   "execution_count": 50,
   "metadata": {},
   "outputs": [],
   "source": [
    "def generate_tokenized_translations(model, \n",
    "                                    inference_helper, \n",
    "                                    X, \n",
    "                                    dataset_name, \n",
    "                                    model_directory,\n",
    "                                    reference=None, \n",
    "                                    every_n_epochs=1, \n",
    "                                    start_at_epoch=0):\n",
    "    beam_lengths = [1, 12]\n",
    "    format_string = '{}.predicted.{:03d}.{}.tok'\n",
    "    regex = util.convert_format_string_to_regex(format_string)\n",
    "    \n",
    "    # find translation files we need to generate\n",
    "    params = []\n",
    "    for file, (epoch, *_) in util.list_all_weight_files_and_props(model_directory):\n",
    "        if epoch % every_n_epochs == 0 and epoch >= start_at_epoch:\n",
    "            for beam_length in beam_lengths:\n",
    "                target_file = os.path.join(\n",
    "                    model_directory, format_string.format(dataset_name, epoch, beam_length))\n",
    "                if not os.path.isfile(target_file):\n",
    "                    params.append((epoch, beam_length, file, target_file))\n",
    "    \n",
    "    # generate needed translation files\n",
    "    # save the weights so that we can restore them later\n",
    "    old_weights = list(map(np.copy, model.get_weights()))\n",
    "    try:\n",
    "        for (epoch, beam_length, weights_file, target_file) in params:\n",
    "            model.load_weights(weights_file)\n",
    "            create_tokenized_translations(inference_helper, X, beam_length, target_file)\n",
    "    finally:\n",
    "        # restore the model back to where it was\n",
    "        model.set_weights(old_weights)\n",
    "    \n",
    "    # In some cases, we may have prediction data for some epoch of the model, but not the actual\n",
    "    # model weights file (the weight file may have been deleted after generating predictions to \n",
    "    # save space). Consequently, we get all the prediction files in `model_directory` and return\n",
    "    # them, even if there is no constituent weight file.\n",
    "    translation_files = []\n",
    "    for translation_file in util.list_files_by_regex(regex, model_directory):\n",
    "        m = re.fullmatch(regex, os.path.basename(translation_file))\n",
    "        if m:\n",
    "            (dataset, epoch, beam_length) = m.groups()\n",
    "            if dataset_name == dataset:\n",
    "                translation_files.append((int(epoch), int(beam_length), translation_file))\n",
    "    \n",
    "    return sorted(translation_files, key=lambda x: (x[0], x[1]))"
   ]
  },
  {
   "cell_type": "markdown",
   "metadata": {},
   "source": [
    "Below, we make the appropriate calls to generate translations for ntst1213 and ntst14. For ntst1213, we generate translations not just for the final model, but for intermediate training states as well. This allows us to plot how the model performance improves throughout training. These calls will generate files in the `MODEL_WEIGHTS_DIRECTORY` containing the translations:"
   ]
  },
  {
   "cell_type": "code",
   "execution_count": 51,
   "metadata": {},
   "outputs": [],
   "source": [
    "predictions_dev = generate_tokenized_translations(model,\n",
    "                                                  inference_helper,\n",
    "                                                  X_dev,\n",
    "                                                  'ntst1213',\n",
    "                                                  MODEL_WEIGHTS_DIRECTORY,\n",
    "                                                  every_n_epochs=20)\n",
    "\n",
    "predictions_test = generate_tokenized_translations(model,\n",
    "                                                   inference_helper,\n",
    "                                                   X_test,\n",
    "                                                   'ntst14',\n",
    "                                                   MODEL_WEIGHTS_DIRECTORY,\n",
    "                                                   every_n_epochs=300,\n",
    "                                                   start_at_epoch=300)"
   ]
  },
  {
   "cell_type": "markdown",
   "metadata": {},
   "source": [
    "Below we calculate the the average BLEU score for the ntst1213 and ntst14 datasets:"
   ]
  },
  {
   "cell_type": "code",
   "execution_count": 52,
   "metadata": {},
   "outputs": [],
   "source": [
    "def calc_bleu_scores_from_predictions(reference_filename, predictions):\n",
    "    result = []\n",
    "    for (epoch, beam_length, prediction_file) in predictions:\n",
    "        bleu_score = util.multi_bleu(reference_filename, prediction_file)\n",
    "        result.append((epoch, beam_length, bleu_score))\n",
    "    return result"
   ]
  },
  {
   "cell_type": "code",
   "execution_count": 53,
   "metadata": {},
   "outputs": [],
   "source": [
    "epoch_beam_bleu_dev = calc_bleu_scores_from_predictions('target/dev/ntst1213.fr', predictions_dev)\n",
    "epoch_beam_bleu_test = calc_bleu_scores_from_predictions('target/dev/ntst14.fr', predictions_test)"
   ]
  },
  {
   "cell_type": "markdown",
   "metadata": {},
   "source": [
    "Below we get the final BLEU score and the BLEU scores by sentence length on the ntst14 data: "
   ]
  },
  {
   "cell_type": "code",
   "execution_count": 54,
   "metadata": {},
   "outputs": [],
   "source": [
    "ntst14_final = next(filter(lambda x: x[0] == 300 and x[1] == 12, predictions_test), None)\n",
    "lengths_bleu_test = None\n",
    "if ntst14_final:\n",
    "    length_bleu_test = util.calc_bleu_scores_by_length_thresholds('target/dev/ntst14.en',\n",
    "                                                                  'target/dev/ntst14.fr',\n",
    "                                                                  ntst14_final[-1],\n",
    "                                                                  list(range(5, 105, 5)))"
   ]
  },
  {
   "cell_type": "markdown",
   "metadata": {},
   "source": [
    "### BLEU score over training epochs"
   ]
  },
  {
   "cell_type": "code",
   "execution_count": 55,
   "metadata": {},
   "outputs": [],
   "source": [
    "def plot_average_bleu_per_epoch(epoch_beam_bleu_list, labels, title, epochs_per_iteration):\n",
    "    result = []\n",
    "    for (epoch_beam_bleu, label) in zip(epoch_beam_bleu_list, labels):\n",
    "        beam_lengths = set([beam_length for (_, beam_length, *_) in epoch_beam_bleu])\n",
    "        for beam_length in beam_lengths:\n",
    "            epoch_bleu = [(epoch, bleu) for (epoch, beam, bleu) in epoch_beam_bleu if beam == beam_length]\n",
    "            epoch_bleu = sorted(epoch_bleu, key=lambda x: x[0])\n",
    "            result.append((epoch_bleu, '{} (beam={})'.format(label, beam_length)))\n",
    "            \n",
    "    for epoch_bleu, label in result:\n",
    "        epochs, bleu_scores = zip(*epoch_bleu)\n",
    "        epochs = [epoch / epochs_per_iteration for epoch in epochs]\n",
    "        plt.plot(epochs, bleu_scores, label=label)\n",
    "    \n",
    "    plt.legend()\n",
    "    plt.xlabel('Epoch')\n",
    "    plt.ylabel('Bleu Score')\n",
    "    plt.title(title)\n",
    "    plt.xlim(1, epochs[-1])\n",
    "    plt.show()"
   ]
  },
  {
   "cell_type": "code",
   "execution_count": 56,
   "metadata": {},
   "outputs": [
    {
     "data": {
      "image/png": "[encoded data removed]",
      "text/plain": [
       "<Figure size 432x288 with 1 Axes>"
      ]
     },
     "metadata": {},
     "output_type": "display_data"
    }
   ],
   "source": [
    "plot_average_bleu_per_epoch([epoch_beam_bleu_dev], ['dev bleu score'], 'Dev Bleu Score per Iteration', 40)"
   ]
  },
  {
   "cell_type": "markdown",
   "metadata": {},
   "source": [
    "Consistent with the loss plot, the BLEU score improves gradually over time during training, with an unsurprisingly higher BLEU score with a beam size of 12 than of 1."
   ]
  },
  {
   "cell_type": "markdown",
   "metadata": {},
   "source": [
    "### BLEU score by sentence length"
   ]
  },
  {
   "cell_type": "code",
   "execution_count": 57,
   "metadata": {},
   "outputs": [],
   "source": [
    "def plot_bleu_score_by_sentence_length(length_bleu, label, title):\n",
    "    lengths, bleu_scores = zip(*length_bleu)\n",
    "    range_starts = [0]\n",
    "    range_starts.extend(lengths)\n",
    "    plt.bar([i for i in range(len(lengths))], bleu_scores, width=1, label=label, align='edge')\n",
    "    plt.legend()\n",
    "    plt.xticks(range(len(range_starts)), range_starts)\n",
    "    plt.xlim(0, len(range_starts)-1)\n",
    "    plt.ylabel('Bleu Score')\n",
    "    plt.xlabel('Source Sentence Length')\n",
    "    plt.title('Bleu Score by Sentence Length')\n",
    "    plt.show()"
   ]
  },
  {
   "cell_type": "code",
   "execution_count": 58,
   "metadata": {},
   "outputs": [
    {
     "data": {
      "image/png": "[encoded data removed]",
      "text/plain": [
       "<Figure size 432x288 with 1 Axes>"
      ]
     },
     "metadata": {},
     "output_type": "display_data"
    }
   ],
   "source": [
    "if length_bleu_test:\n",
    "    plot_bleu_score_by_sentence_length(length_bleu_test, \n",
    "                                       'test bleu score (beam=12)', \n",
    "                                       'Bleu Score by Sentence Length')"
   ]
  },
  {
   "cell_type": "markdown",
   "metadata": {},
   "source": [
    "Sutskever does not provide data on their non-ensemble model performance by sentence length. However, they do provide this data for their ensemble model. In those results, they found that performance did not drop until exceeding a sentence length of 35 words. Here, we find performance begins to gradually drop off after 15 words. This is not an apples to apples comparison though. It would be interesting to know if using an ensemble not only improves the average performance, but also keeps performance more consistent as sentence lengths grow."
   ]
  },
  {
   "cell_type": "markdown",
   "metadata": {},
   "source": [
    "### Final average BLEU score comparison"
   ]
  },
  {
   "cell_type": "code",
   "execution_count": 59,
   "metadata": {},
   "outputs": [
    {
     "data": {
      "text/html": [
       "<table><thead><tr><th>Method</th><th>test BLEU score (ntst14)</th></tr></thead><tbody><tr><td>Sutskever et al. single forward LSTM, beam size 12</td><td>26.17</td></tr><tr><td>Sutskever et al. single reversed LSTM, beam size 12</td><td>30.59</td></tr><tr><td>This implementation of single reversed LSTM, beam size 1</td><td>24.05</td></tr><tr><td><b>This implementation of single reversed LSTM, beam size 12</b></td><td><b>26.76</b></td></tr></tbody></table>"
      ],
      "text/plain": [
       "<IPython.core.display.HTML object>"
      ]
     },
     "metadata": {},
     "output_type": "display_data"
    }
   ],
   "source": [
    "if epoch_beam_bleu_dev and epoch_beam_bleu_test:\n",
    "    ntst1213_bleu_score = list(filter(lambda x: x[1] == 12, epoch_beam_bleu_dev))[-1][-1]\n",
    "    ntst14_b1_bleu_score = list(filter(lambda x: x[1] == 1, epoch_beam_bleu_test))[-1][-1]\n",
    "    ntst14_b12_bleu_score = list(filter(lambda x: x[1] == 12, epoch_beam_bleu_test))[-1][-1]\n",
    "    display(HTML('<table>{}</tbody></table>'.format(\n",
    "        '<thead><tr><th>Method</th><th>test BLEU score (ntst14)</th></tr></thead><tbody><tr>{}</tr>'.format(\n",
    "            '</tr><tr>'.join(\n",
    "                ['<td>Sutskever et al. single forward LSTM, beam size 12</td><td>26.17</td>',\n",
    "                 '<td>Sutskever et al. single reversed LSTM, beam size 12</td><td>30.59</td>',\n",
    "                 '<td>This implementation of single reversed LSTM, beam size 1</td><td>{}</td>',\n",
    "                 '<td><b>This implementation of single reversed LSTM, beam size 12</b></td><td><b>{}</b></td>'\n",
    "                     ]).format(ntst14_b1_bleu_score, ntst14_b12_bleu_score)))))"
   ]
  },
  {
   "cell_type": "markdown",
   "metadata": {},
   "source": [
    "As can be seen above, the implementation provided here under-performs Sutskever noticeably. In particular, our model produces results with reversed source sentences only slightly better than Sutskever's with non-reversed source sentences, and nearly 4 points less than Sutskever's with reversed source sentences. This might be due to the modifications made to the model, such as reducing the vocabulary size, and further compounded by not retuning the hyperparameters, such as the learning rate, accordingly."
   ]
  },
  {
   "cell_type": "markdown",
   "metadata": {},
   "source": [
    "## References\n",
    "\n",
    "1. Dzmitry Bahdanau, Kyunghyun Cho, and Yoshua Bengio. 2014. Neural machine translation by jointly learning to align and translate. [arXiv:1409.0473](https://arxiv.org/abs/1409.0473).\n",
    "\n",
    "2. Welin Chen, David Grangier, Michael Auli. 2015. Strategies for Training Large Vocabulary Neural Language Models. [arXiv:1512.04906](https://arxiv.org/abs/1512.04906).\n",
    "\n",
    "3. Liang Huang and Kai Zhao and Mingbo Ma. 2017. When to Finish? Optimal Beam Search for Neural Text Generation (modulo beam size). _EMNLP_.\n",
    "\n",
    "4.  H. Schwenk. University le mans. http://www-lium.univ-lemans.fr/˜schwenk/cslm_joint_paper/, 2014. \\[Online; accessed 01-May-2018\\].\n",
    "\n",
    "5. Ilya Sutskever, Oriol Vinyals, Quoc V. Le. 2014. Sequence to Sequence Learning with Neural Networks. [arXiv:1409.3215v3](https://arxiv.org/abs/1409.3215v3).\n",
    "\n",
    "6. George Kingsley Zipf. 1949. Human behavior and the principle of least effort.\n",
    "\n",
    "7. mosesdecoder. Github Repository, https://github.com/moses-smt/mosesdecoder. \\[Online; accessed 01-May-2018\\]."
   ]
  }
 ],
 "metadata": {
  "kernelspec": {
   "display_name": "Python 3",
   "language": "python",
   "name": "python3"
  },
  "language_info": {
   "codemirror_mode": {
    "name": "ipython",
    "version": 3
   },
   "file_extension": ".py",
   "mimetype": "text/x-python",
   "name": "python",
   "nbconvert_exporter": "python",
   "pygments_lexer": "ipython3",
   "version": "3.5.2"
  }
 },
 "nbformat": 4,
 "nbformat_minor": 2
}
